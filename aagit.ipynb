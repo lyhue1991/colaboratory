{
  "cells": [
    {
      "metadata": {},
      "cell_type": "markdown",
      "source": "### 设置ssh"
    },
    {
      "metadata": {},
      "cell_type": "markdown",
      "source": "通常可以用SSH协议和远程库通信或使用http协议和远程库通信。\n\nhttp协议较为方便，但SSH协议方式速度较快。\n\nssh-keygen -t rsa -C \"your_emial@xxx.com\"\n\n在 git bash中运行上述命令，并一路回车，在用户主目录里找到.ssh目录。\n\n目录下的id_rsa有私钥，不能泄露出去。里面的id_rsa.pub是公钥，可分享给别人。\n\n在GitHub——> settings ——> SSH Keys 页面添加SSH公钥。\n\nssh -T git@github.com\n\n再在 git bash中运行上述命令，使得本机和github建立SSH连接\n"
    },
    {
      "metadata": {},
      "cell_type": "markdown",
      "source": "### 建立账户"
    },
    {
      "metadata": {
        "trusted": true
      },
      "cell_type": "code",
      "source": "#!git config --global user.email \"lyhue1991@163.com\"\n#!git config --global user.name \"Python_Ai_Road\"",
      "execution_count": 5,
      "outputs": []
    },
    {
      "metadata": {
        "trusted": true
      },
      "cell_type": "code",
      "source": "# 出现一些类似 warning: LF will be replaced by CRLF in <file-name>. 可启用如下设置。\n!git config --global core.autocrlf false\n\n# 配置打印历史commit的快捷命令\n!git config --global alias.lg \"log --oneline --graph --all\"",
      "execution_count": 10,
      "outputs": []
    },
    {
      "metadata": {},
      "cell_type": "markdown",
      "source": "### 建立仓库"
    },
    {
      "metadata": {
        "trusted": true
      },
      "cell_type": "code",
      "source": "!git init",
      "execution_count": 7,
      "outputs": [
        {
          "output_type": "stream",
          "text": "Reinitialized existing Git repository in /home/nbuser/library/.git/\r\n",
          "name": "stdout"
        }
      ]
    },
    {
      "metadata": {
        "trusted": true,
        "ExecuteTime": {
          "start_time": "2018-11-12T05:14:12.016Z"
        }
      },
      "cell_type": "code",
      "source": "!git add -A",
      "execution_count": null,
      "outputs": []
    },
    {
      "metadata": {
        "trusted": true
      },
      "cell_type": "code",
      "source": "!git commit -m\"add aa_HiveSQL\"",
      "execution_count": 9,
      "outputs": [
        {
          "output_type": "stream",
          "text": "[master (root-commit) 73122dc] add linux_tutorial\n 3 files changed, 261 insertions(+)\n create mode 100644 README.md\n create mode 100644 \"aa_linux\\345\\270\\270\\347\\224\\250\\345\\221\\275\\344\\273\\244.ipynb\"\n create mode 100644 test.ipynb\n",
          "name": "stdout"
        }
      ]
    },
    {
      "metadata": {},
      "cell_type": "markdown",
      "source": "### 同步远程"
    },
    {
      "metadata": {
        "trusted": true
      },
      "cell_type": "code",
      "source": "#移除远程仓库\n#!git remote rm origin",
      "execution_count": 12,
      "outputs": []
    },
    {
      "metadata": {
        "trusted": true
      },
      "cell_type": "code",
      "source": "#可以使用SSH地址添加远程库\n#!git remote add origin git@github.com:lyhue1991/allmynotes.git",
      "execution_count": 13,
      "outputs": []
    },
    {
      "metadata": {
        "trusted": true
      },
      "cell_type": "code",
      "source": "# 获取更新\n!git fetch",
      "execution_count": 15,
      "outputs": []
    },
    {
      "metadata": {
        "trusted": true
      },
      "cell_type": "code",
      "source": "# 将当前库以远程库为base重演\n!git rebase origin/master",
      "execution_count": 16,
      "outputs": [
        {
          "output_type": "stream",
          "text": "Cannot rebase: You have unstaged changes.\nPlease commit or stash them.\n",
          "name": "stdout"
        }
      ]
    },
    {
      "metadata": {
        "trusted": true
      },
      "cell_type": "code",
      "source": "# 更新到远程库\n!git push -u origin master",
      "execution_count": 14,
      "outputs": [
        {
          "output_type": "stream",
          "text": "Counting objects: 5, done.\nDelta compression using up to 2 threads.\nCompressing objects: 100% (4/4), done.\nWriting objects: 100% (5/5), 2.86 KiB | 0 bytes/s, done.\nTotal 5 (delta 0), reused 0 (delta 0)\nremote: \nremote: Create a pull request for 'master' on GitHub by visiting:\u001b[K\nremote:      https://github.com/lyhue1991/allmynotes/pull/new/master\u001b[K\nremote: \nTo git@github.com:lyhue1991/allmynotes.git\n * [new branch]      master -> master\nBranch master set up to track remote branch master from origin.\n",
          "name": "stdout"
        }
      ]
    }
  ],
  "metadata": {
    "kernelspec": {
      "name": "python36",
      "display_name": "Python 3.6",
      "language": "python"
    },
    "language_info": {
      "mimetype": "text/x-python",
      "nbconvert_exporter": "python",
      "name": "python",
      "pygments_lexer": "ipython3",
      "version": "3.6.6",
      "file_extension": ".py",
      "codemirror_mode": {
        "version": 3,
        "name": "ipython"
      }
    }
  },
  "nbformat": 4,
  "nbformat_minor": 2
}
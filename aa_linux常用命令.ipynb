{
 "cells": [
  {
   "cell_type": "markdown",
   "metadata": {},
   "source": [
    "### 一，vim常用指令"
   ]
  },
  {
   "cell_type": "markdown",
   "metadata": {},
   "source": [
    "vim helloworld.py 创建/打开文件\n",
    "\n",
    "按i/a 进入编辑模式\n",
    "\n",
    "按Esc退出编辑模式\n",
    "\n",
    "Esc+g回到第一行，Esc+Shift+g跳转到最后一行\n",
    "\n",
    ":wq 保存退出\n",
    "\n",
    ":q! 强制退出\n",
    "\n",
    ":/re 查找匹配 re的字符串高亮显示，再输入 :noh取消高亮 , 输入 /再 Enter查找下一处匹配\n",
    "\n",
    ":set number 显示行号，可以新建 ~/.vimrc 写入该命令永久有效\n",
    "\n",
    ":vsp xxx.py   横向视窗分割，visual split  打开 xxx.py文件, Ctrl+W在不同窗口间切换\n"
   ]
  },
  {
   "cell_type": "markdown",
   "metadata": {},
   "source": [
    "### 二，bash常用命令"
   ]
  },
  {
   "cell_type": "markdown",
   "metadata": {},
   "source": [
    "一，目录管理\n",
    "\n",
    "ls (例：ls -a 查看全部目录，包含隐藏目录   ll 查看当前目录详细列表)\n",
    "\n",
    "cd (例：cd .. #切换到上级目录    cd ~ #切换到主目录 )\n",
    "\n",
    "pwd 当前工作目录\n",
    "\n",
    "mkdir 建立文件夹\n",
    "\n",
    "rmdir 删除文件夹\n",
    "\n",
    "trash-empty 清空回收站\n"
   ]
  },
  {
   "cell_type": "markdown",
   "metadata": {},
   "source": [
    "二，文件操作\n",
    "\n",
    "touch 创建文件 (例：touch hello.py)\n",
    "\n",
    "wc 查看文件行数\n",
    "\n",
    "rm  删除文件  (例: rm -rf folder #删除folder中全部文件)\n",
    "\n",
    "du  查看文件大小 (例：du -sh folder #查看folder目录全部文件大小 -s 表示求和  -h 表示 human)\n",
    "\n",
    "sed -i '1d' xxx.csv #删除文件中的第一行\n",
    "\n",
    "sed -n '50,100p' xxx.csv > yyy.csv #截取文件第50至100行\n",
    "\n",
    "sed -n 100p  xxx.csv | cut -f 1,3 #提取文件前100行第1和3列\n",
    "    \n",
    "mv 移动文件 (例：mv xxx.py folder/yyy.py #将文件移动到新目录并更改文件名）\n",
    "\n",
    "cp 复制文件\n",
    "\n",
    "head 查看文件前10行  (例：head -n 1000 input.txt #打印文件input.txt前1000行)\n",
    "\n",
    "tail 查看文件后10行  (例：tail -c 1000 input.txt #打印后1000个字符)\n",
    "\n",
    "cat 拼接文件并输出流   (例：cat abc.csv xyz.csv > data.csv )\n",
    "\n",
    "chmod 修改文件或文件权限  (例：chmod 777 test.txt 让全部用户有读、写、和执行的权限)\n",
    "\n",
    "ln 创建连接命令 (例：ln -s home/liangyun/tj_feature feature_lib 创建软连接feature_lib指向tj_feature)\n"
   ]
  },
  {
   "cell_type": "markdown",
   "metadata": {},
   "source": [
    "三，文件压缩\n",
    "\n",
    "在linux上压缩文件\n",
    "zip -r ./xxx.zip ./  压缩当前文件夹成 xxx.zip\n",
    "unzip xxx.zip   解压xxx.zip\n",
    "\n",
    "tar -czf msg_term.tar.gz word_auto/*  压缩文件夹\n",
    "tar -xzvf msg_term.tar.gz 解压 msg_term.tar.gz文件"
   ]
  },
  {
   "cell_type": "markdown",
   "metadata": {},
   "source": [
    "四，文件传输\n",
    "\n",
    "从别人处copy\n",
    "scp zhangtongtong@10.12.16.65:/home/zhangtongtong/message_new/label /home/liangyun/ztt_label\n",
    "\n",
    "copy到别人\n",
    "scp zz_label weiguoling@10.12.16.65:/home/weiguoling\n",
    "\n",
    "\n",
    "nc 操作\n",
    "nc ip port <file 例如：nc 10.11.4.240 2222 <file\n",
    "\n",
    "与windows互传文件\n",
    "\n",
    "rz 接受文件：receive Zmodem\n",
    "sz 发送文件到windows上： send Zmodem\n",
    "\n",
    "在linux安装Anaconda \n",
    "wget https://github.../Anaconda_XX_XX.sh\n",
    "bash Anaconda_XX_XX.sh"
   ]
  },
  {
   "cell_type": "markdown",
   "metadata": {},
   "source": [
    "五，管道命令\n",
    "\n",
    "cat input | python mapper.py |sort -t 1| python reducer.py >output.txt   #linux管道\n",
    "\n",
    "python mapper.py <input.txt  1>output  2>error   # 标准输入input，标准输出到output，错误输出到error\n",
    "\n",
    "cat output.txt | awk -F'\\t' '{print NF}' #查看文件每行有多少列，以'\\t'分割\n",
    "\n",
    "yes y|head -2 | rm -r xxx   #删除目录xxx，前两次回答为y"
   ]
  },
  {
   "cell_type": "markdown",
   "metadata": {},
   "source": [
    "\n",
    "\n"
   ]
  }
 ],
 "metadata": {
  "kernelspec": {
   "display_name": "Python 2",
   "language": "python",
   "name": "python2"
  },
  "language_info": {
   "codemirror_mode": {
    "name": "ipython",
    "version": 2
   },
   "file_extension": ".py",
   "mimetype": "text/x-python",
   "name": "python",
   "nbconvert_exporter": "python",
   "pygments_lexer": "ipython2",
   "version": "2.7.10"
  }
 },
 "nbformat": 4,
 "nbformat_minor": 2
}

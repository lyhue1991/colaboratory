{
 "cells": [
  {
   "cell_type": "markdown",
   "metadata": {},
   "source": [
    "# Bash 基础教程 "
   ]
  },
  {
   "cell_type": "markdown",
   "metadata": {},
   "source": [
    "#!/bin/bash"
   ]
  },
  {
   "cell_type": "markdown",
   "metadata": {},
   "source": [
    "### 1，shell变量"
   ]
  },
  {
   "cell_type": "raw",
   "metadata": {},
   "source": [
    "shell有3中类型的变量：环境变量、局部变量和特殊变量。\n",
    "环境变量可用于定义shell的运行环境，在各个shell脚本中都可以引用。\n",
    "局部变量只能在当前shell脚本中引用。\n",
    "特殊变量 $0,$1,$#,$*,$$,$?等与shell脚本参数等有关。"
   ]
  },
  {
   "cell_type": "raw",
   "metadata": {},
   "source": [
    "* 环境变量：\n",
    "\n",
    "环境变量可用于定义shell的运行环境，一般在配置文件中如 ~/.bashrc 或 ~./bash_profile文件中定义。\n",
    "如果在命令行中设置，在终端重启后将会丢失。\n",
    "\n",
    "常见的系统环境变量有：\n",
    "HOME:用户登录时进入的目录，家目录\n",
    "SHELL:当前的shell解释器\n",
    "PWD:当前所在路径\n",
    "PATH:可执行文件默认路径\n",
    "UID:当前用户的ID\n",
    "\n",
    "可以用export或declare定自定义环境变量\n",
    "如： \n",
    "export abc='xxx'\n",
    "或 abc='xxx';export abc\n",
    "或 declare -x abc='xxx'\n",
    "\n",
    "可以用env或set来查看系统的环境变量\n"
   ]
  },
  {
   "cell_type": "code",
   "execution_count": 79,
   "metadata": {},
   "outputs": [
    {
     "name": "stdout",
     "output_type": "stream",
     "text": [
      "/home/jquser\n"
     ]
    }
   ],
   "source": [
    "%%bash\n",
    "echo $HOME"
   ]
  },
  {
   "cell_type": "raw",
   "metadata": {},
   "source": [
    "* 局部变量\n",
    "\n",
    "变量定义：var=123 (注：=两侧不能有空格)\n",
    "变量引用：echo $var 或 echo ${var}\n",
    "\n",
    "用反引号将命令的结果作为变量名是常用的方法。eg: cmd=`date +%F`\n",
    "用$符号将命令的结果作为变量名也比较常用。eg:cmd=$(date +%F)\n",
    "\n",
    "unset 命令可以删除变量。eg:unset 'a'\n",
    "readonly 命令可以设置只读变量。eg:readonly a"
   ]
  },
  {
   "cell_type": "code",
   "execution_count": 80,
   "metadata": {},
   "outputs": [
    {
     "name": "stdout",
     "output_type": "stream",
     "text": [
      "\n"
     ]
    }
   ],
   "source": [
    "%%bash\n",
    "a='123'\n",
    "unset 'a'\n",
    "echo $a"
   ]
  },
  {
   "cell_type": "code",
   "execution_count": 81,
   "metadata": {},
   "outputs": [
    {
     "name": "stdout",
     "output_type": "stream",
     "text": [
      "2018-08-30\n",
      "2018-08-30\n"
     ]
    }
   ],
   "source": [
    "%%bash\n",
    "cmd=`date +%F`\n",
    "echo $cmd\n",
    "cmd=$(date +%F)\n",
    "echo $cmd"
   ]
  },
  {
   "cell_type": "raw",
   "metadata": {},
   "source": [
    "* 特殊变量\n",
    "$0：当前执行的shell脚本的文件名\n",
    "$1：第1个参数,类似地$n则表示第n个参数，如果n>9则需要用大括号括起来。eg:${21}\n",
    "$#: 参数的总个数\n",
    "$*: 所有参数组成的单个字符串,将所有参数视为单个字符串 \"$1$2$3...\"\n",
    "$@: 这个程序的所有参数,将所有参数 \"$1\" \"$2\"...之间空格保留\n",
    "$$: 当前shell进程号\n",
    "$?: 上一个指令的返回值（0为成功，非0为失败）\n",
    "$_: 在此之前执行的命令或脚本的最后一个参数\n"
   ]
  },
  {
   "cell_type": "code",
   "execution_count": 82,
   "metadata": {},
   "outputs": [
    {
     "name": "stdout",
     "output_type": "stream",
     "text": [
      "Overwriting zz_test.sh\n"
     ]
    }
   ],
   "source": [
    "%%writefile zz_test.sh\n",
    "echo $0 #脚本文件名\n",
    "echo $1 #第1个参数\n",
    "echo $2 #第2个参数\n",
    "echo $# #参数的总个数\"\"\n",
    "\n",
    "for i in \"$*\";do    #所有参数组成的单个字符串,将所有参数视为单个字符串 \"$1$2$3...\"\n",
    "    echo $i\n",
    "done\n",
    "\n",
    "for i in \"$@\";do   #这个程序的所有参数,将所有参数 \"$1\" \"$2\"...之间空格保留\n",
    "    echo $i\n",
    "done\n",
    "\n"
   ]
  },
  {
   "cell_type": "code",
   "execution_count": 83,
   "metadata": {},
   "outputs": [
    {
     "name": "stdout",
     "output_type": "stream",
     "text": [
      "zz_test.sh\r\n",
      "xx\r\n",
      "yy\r\n",
      "3\r\n",
      "xx yy zz\r\n",
      "xx\r\n",
      "yy\r\n",
      "zz\r\n"
     ]
    }
   ],
   "source": [
    "!sh zz_test.sh xx yy zz"
   ]
  },
  {
   "cell_type": "code",
   "execution_count": 84,
   "metadata": {},
   "outputs": [
    {
     "name": "stdout",
     "output_type": "stream",
     "text": [
      "17994\n",
      "0\n"
     ]
    }
   ],
   "source": [
    "%%bash\n",
    "echo $$ #当前shell进程号\n",
    "echo $? #上一个指令的返回值（0为成功，非0为失败）"
   ]
  },
  {
   "cell_type": "code",
   "execution_count": 85,
   "metadata": {},
   "outputs": [
    {
     "name": "stdout",
     "output_type": "stream",
     "text": [
      "hello world\n",
      "world\n"
     ]
    }
   ],
   "source": [
    "%%bash \n",
    "echo 'hello' 'world'\n",
    "echo $_ #在此之前执行的命令或脚本的最后一个参数"
   ]
  },
  {
   "cell_type": "markdown",
   "metadata": {},
   "source": [
    "### 2，shell字符串"
   ]
  },
  {
   "cell_type": "raw",
   "metadata": {},
   "source": [
    "字符串可以用单引号，也可以用双引号，也可以不用引号。\n",
    "\n",
    "* 单引号字符串：\n",
    "\n",
    "单引号里的任何字符都会原样输出,单引号字符串中的变量是无效的;\n",
    "单引号字符串中不能出现单引号(对单引号使用转义符也不行)\n",
    "\n",
    "* 双引号字符串：\n",
    "\n",
    "双引号里的内容可以有变量\n",
    "双引号里可以出现转义字符\n",
    "双引号字符串里可以进行字符串拼接\n",
    "\n",
    "* 字符串常用操作：\n",
    "获取字符串长度 ${#}"
   ]
  },
  {
   "cell_type": "code",
   "execution_count": 86,
   "metadata": {},
   "outputs": [
    {
     "name": "stdout",
     "output_type": "stream",
     "text": [
      "hello world\n",
      "hello world\n",
      "hello world\n",
      "hello \"China\"\n"
     ]
    }
   ],
   "source": [
    "%%bash\n",
    "echo hello world\n",
    "echo 'hello world'\n",
    "echo \"hello world\"\n",
    "name='China'\n",
    "echo \"hello \\\"${name}\\\"\""
   ]
  },
  {
   "cell_type": "code",
   "execution_count": 87,
   "metadata": {},
   "outputs": [
    {
     "name": "stdout",
     "output_type": "stream",
     "text": [
      "11\n",
      "world\n",
      "11\n"
     ]
    }
   ],
   "source": [
    "%%bash\n",
    "str='hello world'\n",
    "# 获取字符串长度\n",
    "echo ${#str}\n",
    "\n",
    "#截取子串\n",
    "echo ${str:6:10}\n",
    "\n",
    "#查找子字符串\n",
    "echo `expr index \"$str\" d`"
   ]
  },
  {
   "cell_type": "markdown",
   "metadata": {},
   "source": [
    "### 3，shell数组"
   ]
  },
  {
   "cell_type": "markdown",
   "metadata": {},
   "source": [
    "定义数组：array=(1 2 'xyz' 4)\n",
    "\n",
    "读取数组元素值：${array[index]}\n",
    "\n",
    "Bash Shell 只支持一维数组（不支持多维数组）"
   ]
  },
  {
   "cell_type": "code",
   "execution_count": 88,
   "metadata": {},
   "outputs": [
    {
     "name": "stdout",
     "output_type": "stream",
     "text": [
      "B\n",
      "A B xyz 4 5\n",
      "A B xyz 4 5\n",
      "5\n",
      "5\n"
     ]
    }
   ],
   "source": [
    "%%bash \n",
    "array=(A B 'xyz' 4) \n",
    "array[4]=5\n",
    "echo ${array[1]} #读取数组元素值\n",
    "echo ${array[@]} #获取数组中所有元素\n",
    "echo ${array[*]} #获取数组中所有元素\n",
    "echo ${#array[@]} #获取数组长度\n",
    "echo ${#array[*]} #获取数组长度"
   ]
  },
  {
   "cell_type": "markdown",
   "metadata": {},
   "source": [
    "### 4，shell运算符"
   ]
  },
  {
   "cell_type": "markdown",
   "metadata": {},
   "source": [
    "shell运算符包括算数运算符，关系运算符，\n",
    "\n",
    "逻辑运算符，字符串运算符和文件测试运算符等。"
   ]
  },
  {
   "cell_type": "markdown",
   "metadata": {},
   "source": [
    "#### 算数运算符"
   ]
  },
  {
   "cell_type": "raw",
   "metadata": {},
   "source": [
    "可以用\n",
    "c = `expr $a + $b`\n",
    "或 let c =a+b\n",
    "进行算数运算"
   ]
  },
  {
   "cell_type": "code",
   "execution_count": 91,
   "metadata": {},
   "outputs": [
    {
     "name": "stdout",
     "output_type": "stream",
     "text": [
      "35\n"
     ]
    }
   ],
   "source": [
    "%%bash\n",
    "\n",
    "a=25\n",
    "b=10\n",
    "\n",
    "let c=a+b\n",
    "echo $c"
   ]
  },
  {
   "cell_type": "code",
   "execution_count": 125,
   "metadata": {},
   "outputs": [
    {
     "name": "stdout",
     "output_type": "stream",
     "text": [
      "a+b:35\n",
      "a-b:15\n",
      "a\\*b:250\n",
      "a/b:2\n",
      "a%b:5\n",
      "a==b:0\n",
      "a!=b:1\n"
     ]
    }
   ],
   "source": [
    "%%bash\n",
    "\n",
    "a=25\n",
    "b=10\n",
    "\n",
    "val=`expr $a + $b`\n",
    "echo \"a+b:$val\"\n",
    "\n",
    "val=`expr $a - $b`\n",
    "echo \"a-b:$val\"\n",
    "\n",
    "val=`expr $a \\* $b`\n",
    "echo \"a\\*b:$val\"\n",
    "\n",
    "val=`expr $a / $b`\n",
    "echo \"a/b:$val\"\n",
    "\n",
    "val=`expr $a % $b`\n",
    "echo \"a%b:$val\"\n",
    "\n",
    "val=`expr $a == $b`\n",
    "echo \"a==b:$val\"\n",
    "\n",
    "val=`expr $a != $b`\n",
    "echo \"a!=b:$val\""
   ]
  },
  {
   "cell_type": "markdown",
   "metadata": {},
   "source": [
    "#### 关系运算符"
   ]
  },
  {
   "cell_type": "raw",
   "metadata": {},
   "source": [
    "-eq  ：equal\n",
    "-ne  : not equal\n",
    "-gt  : greater than\n",
    "-lt  : less than\n",
    "-ge  : greater equal\n",
    "-le  : less equal"
   ]
  },
  {
   "cell_type": "code",
   "execution_count": 133,
   "metadata": {},
   "outputs": [
    {
     "name": "stdout",
     "output_type": "stream",
     "text": [
      "a < b\n"
     ]
    }
   ],
   "source": [
    "%%bash \n",
    "a=20\n",
    "b=30\n",
    "if [ $a -gt $b ]\n",
    "then\n",
    "    echo \"a >= b\"\n",
    "else\n",
    "    echo \"a < b\"\n",
    "fi"
   ]
  },
  {
   "cell_type": "markdown",
   "metadata": {},
   "source": [
    "#### 逻辑运算符"
   ]
  },
  {
   "cell_type": "raw",
   "metadata": {},
   "source": [
    "* 布尔运算符 （使用1个中括号）\n",
    "\n",
    "!: 非运算\n",
    "-o：或运算\n",
    "-a：与运算\n",
    "\n",
    "* 逻辑运算符（注意要使用2个中括号）\n",
    "\n",
    "||：或运算  \n",
    "&&：与运算"
   ]
  },
  {
   "cell_type": "code",
   "execution_count": 166,
   "metadata": {},
   "outputs": [
    {
     "name": "stdout",
     "output_type": "stream",
     "text": [
      "the max of a,b,c is:50\n"
     ]
    }
   ],
   "source": [
    "%%bash\n",
    "a=20\n",
    "b=30\n",
    "c=50\n",
    "if [ $a -ge $b -a  $a -ge $c ]\n",
    "then\n",
    "    m=$a\n",
    "elif [ $b -ge $c ]\n",
    "then\n",
    "    m=$b   \n",
    "else\n",
    "    m=$c\n",
    "fi\n",
    "echo \"the max of a,b,c is:$m\"\n",
    "   \n",
    "\n"
   ]
  },
  {
   "cell_type": "code",
   "execution_count": 164,
   "metadata": {},
   "outputs": [
    {
     "name": "stdout",
     "output_type": "stream",
     "text": [
      "the max of a,b,c is:50\n"
     ]
    }
   ],
   "source": [
    "%%bash\n",
    "a=20\n",
    "b=30\n",
    "c=50\n",
    "if [[ $a -ge $b &&  $a -ge $c ]]\n",
    "then\n",
    "    m=$a\n",
    "elif [ $b -ge $c ]\n",
    "then\n",
    "    m=$b   \n",
    "else\n",
    "    m=$c\n",
    "fi\n",
    "echo \"the max of a,b,c is:$m\"\n",
    "   \n",
    "\n"
   ]
  },
  {
   "cell_type": "markdown",
   "metadata": {},
   "source": [
    "#### 字符串检测运算符"
   ]
  },
  {
   "cell_type": "markdown",
   "metadata": {},
   "source": [
    "= :字符串是否相等\n",
    "!= ：字符串是否不等\n",
    "-z：字符串长度是否为0\n",
    "-n：字符串长度是否非0\n",
    "str: 字符串是否为空"
   ]
  },
  {
   "cell_type": "code",
   "execution_count": 77,
   "metadata": {},
   "outputs": [
    {
     "name": "stdout",
     "output_type": "stream",
     "text": [
      "a!=b\n",
      "a not empty\n"
     ]
    }
   ],
   "source": [
    "%%bash\n",
    "a='abc'\n",
    "b='efg'\n",
    "if [ $a = $b ]\n",
    "then \n",
    "    echo 'a==b'\n",
    "else\n",
    "    echo 'a!=b'\n",
    "fi\n",
    "\n",
    "if test a \n",
    "then \n",
    "    echo 'a not empty'\n",
    "fi\n",
    "\n",
    "if test -z a \n",
    "then \n",
    "    echo 'a empty'\n",
    "fi"
   ]
  },
  {
   "cell_type": "code",
   "execution_count": null,
   "metadata": {},
   "outputs": [],
   "source": []
  },
  {
   "cell_type": "markdown",
   "metadata": {},
   "source": [
    "#### 文件检测运算符"
   ]
  },
  {
   "cell_type": "raw",
   "metadata": {},
   "source": [
    "-d file 检测是否目录\n",
    "-f file 检测是否文件\n",
    "-r file 检测是否可读\n",
    "-w file 检测是否可写\n",
    "-x file 检测是否可执行\n",
    "-e file 检测是否存在\n",
    "-s file 检测是否为空\n"
   ]
  },
  {
   "cell_type": "code",
   "execution_count": 72,
   "metadata": {},
   "outputs": [
    {
     "name": "stdout",
     "output_type": "stream",
     "text": [
      "Writing abc\n"
     ]
    }
   ],
   "source": [
    "%%writefile abc\n",
    "1 2 3\n",
    "4 5 6"
   ]
  },
  {
   "cell_type": "code",
   "execution_count": 75,
   "metadata": {},
   "outputs": [
    {
     "name": "stdout",
     "output_type": "stream",
     "text": [
      "\"abc\" is a file\n"
     ]
    }
   ],
   "source": [
    "%%bash\n",
    "if test -f abc\n",
    "then\n",
    "    echo \"\\\"abc\\\" is a file\"\n",
    "fi"
   ]
  },
  {
   "cell_type": "markdown",
   "metadata": {},
   "source": [
    "### 5，if 判断格式"
   ]
  },
  {
   "cell_type": "code",
   "execution_count": 184,
   "metadata": {},
   "outputs": [
    {
     "name": "stdout",
     "output_type": "stream",
     "text": [
      "b>=a\n"
     ]
    }
   ],
   "source": [
    "%%bash\n",
    "a=2\n",
    "b=3\n",
    "if [ $a -gt $b ]; then echo 'a>b'; else echo 'b>=a'; fi"
   ]
  },
  {
   "cell_type": "code",
   "execution_count": 175,
   "metadata": {},
   "outputs": [
    {
     "name": "stdout",
     "output_type": "stream",
     "text": [
      "the max of a,b,c is:50\n"
     ]
    }
   ],
   "source": [
    "%%bash\n",
    "a=20\n",
    "b=30\n",
    "c=50\n",
    "if [[ $a -ge $b &&  $a -ge $c ]]\n",
    "then\n",
    "    m=$a\n",
    "elif [ $b -ge $c ]\n",
    "then\n",
    "    m=$b   \n",
    "else\n",
    "    m=$c\n",
    "fi\n",
    "echo \"the max of a,b,c is:$m\""
   ]
  },
  {
   "cell_type": "markdown",
   "metadata": {},
   "source": [
    "### 6，case分支格式"
   ]
  },
  {
   "cell_type": "code",
   "execution_count": 25,
   "metadata": {},
   "outputs": [
    {
     "name": "stdout",
     "output_type": "stream",
     "text": [
      "you choose 4\n",
      "big\n"
     ]
    }
   ],
   "source": [
    "%%bash\n",
    "\n",
    "aNum=4\n",
    "case $aNum in\n",
    "    1|2|3)  \n",
    "    echo 'you choose (1|2|3)'\n",
    "    echo 'small'\n",
    "    ;;\n",
    "    4)  \n",
    "    echo 'you choose 4'\n",
    "    echo 'big'\n",
    "    ;;\n",
    "    *)  \n",
    "    echo 'you choose others'\n",
    "    echo 'unkown'\n",
    "    ;;\n",
    "esac\n"
   ]
  },
  {
   "cell_type": "markdown",
   "metadata": {},
   "source": [
    "###  7，for 循环格式"
   ]
  },
  {
   "cell_type": "code",
   "execution_count": 31,
   "metadata": {},
   "outputs": [
    {
     "name": "stdout",
     "output_type": "stream",
     "text": [
      "the value is : 1\n",
      "the value is : 2\n",
      "the value is : 4\n",
      "the value is : 5\n"
     ]
    }
   ],
   "source": [
    "%%bash \n",
    "\n",
    "for i in 1 2 3 4 5\n",
    "do \n",
    "    if [ $i -eq 3 ]; then continue; fi\n",
    "    echo \"the value is : $i\" \n",
    "done"
   ]
  },
  {
   "cell_type": "code",
   "execution_count": 33,
   "metadata": {},
   "outputs": [
    {
     "name": "stdout",
     "output_type": "stream",
     "text": [
      "the value is : 1\n",
      "the value is : 2\n",
      "the value is : 3\n",
      "the value is : 4\n"
     ]
    }
   ],
   "source": [
    "%%bash\n",
    "for((i=1;i<=10;i++))\n",
    "do\n",
    "    if [ $i -eq 5 ]; then break; fi\n",
    "    echo \"the value is : $i\"\n",
    "done"
   ]
  },
  {
   "cell_type": "markdown",
   "metadata": {},
   "source": [
    "### 8，while循环格式"
   ]
  },
  {
   "cell_type": "code",
   "execution_count": 18,
   "metadata": {},
   "outputs": [
    {
     "name": "stdout",
     "output_type": "stream",
     "text": [
      "1\n",
      "2\n",
      "3\n",
      "4\n",
      "5\n"
     ]
    }
   ],
   "source": [
    "%%bash \n",
    "\n",
    "i=1\n",
    "while(($i<=5))\n",
    "do\n",
    "    echo $i\n",
    "    let i++\n",
    "    \n",
    "done"
   ]
  },
  {
   "cell_type": "code",
   "execution_count": 14,
   "metadata": {},
   "outputs": [
    {
     "name": "stdout",
     "output_type": "stream",
     "text": [
      "20\n"
     ]
    }
   ],
   "source": [
    "%%bash\n",
    "\n",
    "a=10\n",
    "let \"b=a+10\"\n",
    "echo $b"
   ]
  },
  {
   "cell_type": "markdown",
   "metadata": {},
   "source": [
    "### 9，until循环格式"
   ]
  },
  {
   "cell_type": "code",
   "execution_count": 16,
   "metadata": {},
   "outputs": [
    {
     "name": "stdout",
     "output_type": "stream",
     "text": [
      "0\n",
      "1\n",
      "2\n",
      "3\n",
      "4\n",
      "5\n",
      "6\n",
      "7\n",
      "8\n",
      "9\n"
     ]
    }
   ],
   "source": [
    "%%bash\n",
    "\n",
    "#!/bin/bash\n",
    "\n",
    "a=0\n",
    "\n",
    "until [ ! $a -lt 10 ]\n",
    "do\n",
    "   echo $a\n",
    "   a=`expr $a + 1`\n",
    "done"
   ]
  },
  {
   "cell_type": "markdown",
   "metadata": {},
   "source": [
    "### 10，shell函数"
   ]
  },
  {
   "cell_type": "code",
   "execution_count": 38,
   "metadata": {},
   "outputs": [
    {
     "name": "stdout",
     "output_type": "stream",
     "text": [
      "-----函数开始执行-----\n",
      "这是我的第一个 shell 函数!\n",
      "-----函数执行完毕-----\n"
     ]
    }
   ],
   "source": [
    "%%bash \n",
    "demoFun(){\n",
    "    echo \"这是我的第一个 shell 函数!\"\n",
    "}\n",
    "echo \"-----函数开始执行-----\"\n",
    "demoFun\n",
    "echo \"-----函数执行完毕-----\""
   ]
  },
  {
   "cell_type": "code",
   "execution_count": 40,
   "metadata": {},
   "outputs": [
    {
     "name": "stdout",
     "output_type": "stream",
     "text": [
      "输入的两个数字之和为 5 !\n"
     ]
    }
   ],
   "source": [
    "%%bash\n",
    "funWithReturn(){\n",
    "    a=$1\n",
    "    b=$2\n",
    "    return $(($1+$2))\n",
    "}\n",
    "funWithReturn 2 3\n",
    "echo \"两个数字之和为 $? !\""
   ]
  },
  {
   "cell_type": "raw",
   "metadata": {},
   "source": [
    "$0：当前执行的shell脚本的文件名\n",
    "$1：第1个参数,类似地$n则表示第n个参数，如果n>9则需要用大括号括起来。eg:${21}\n",
    "$#: 参数的总个数\n",
    "$*: 所有参数组成的单个字符串,将所有参数视为单个字符串 \"$1$2$3...\"\n",
    "$@: 这个程序的所有参数,将所有参数 \"$1\" \"$2\"...之间空格保留\n",
    "$$: 当前shell进程号\n",
    "$?: 上一个指令的返回值（0为成功，非0为失败）\n",
    "$_: 在此之前执行的命令或脚本的最后一个参数"
   ]
  },
  {
   "cell_type": "code",
   "execution_count": null,
   "metadata": {},
   "outputs": [],
   "source": []
  },
  {
   "cell_type": "markdown",
   "metadata": {},
   "source": [
    "### 11，输入输出 read,echo,printf"
   ]
  },
  {
   "cell_type": "code",
   "execution_count": 54,
   "metadata": {},
   "outputs": [
    {
     "name": "stdout",
     "output_type": "stream",
     "text": [
      "your input is 10\n"
     ]
    }
   ],
   "source": [
    "%%bash \n",
    "read a #输入\n",
    "10\n",
    "echo \"your input is\"  \"$a\""
   ]
  },
  {
   "cell_type": "code",
   "execution_count": 71,
   "metadata": {},
   "outputs": [
    {
     "name": "stdout",
     "output_type": "stream",
     "text": [
      "hello wolrd! \\nhello China!\n",
      "hello wolrd! \n",
      "hello China!\n"
     ]
    }
   ],
   "source": [
    "%%bash\n",
    "echo  \"hello wolrd! \\nhello China!\" #不开启转义\n",
    "echo -e \"hello wolrd! \\nhello China!\" #开启转义"
   ]
  },
  {
   "cell_type": "code",
   "execution_count": 59,
   "metadata": {},
   "outputs": [
    {
     "name": "stdout",
     "output_type": "stream",
     "text": [
      "hello wolrd! hello china! \n"
     ]
    }
   ],
   "source": [
    "%%bash\n",
    "echo -e \"hello wolrd! \\c\" #不换行\n",
    "echo -e \"hello china! \" "
   ]
  },
  {
   "cell_type": "code",
   "execution_count": 65,
   "metadata": {},
   "outputs": [
    {
     "name": "stdout",
     "output_type": "stream",
     "text": [
      "Thu Aug 30 18:20:02 CST 2018\n"
     ]
    }
   ],
   "source": [
    "%%bash \n",
    "echo `date` #显示命令执行结果"
   ]
  },
  {
   "cell_type": "code",
   "execution_count": 69,
   "metadata": {},
   "outputs": [
    {
     "name": "stdout",
     "output_type": "stream",
     "text": [
      "姓名     性别   体重kg\n",
      "郭靖     男      66.12\n",
      "杨过     男      48.65\n",
      "郭芙     女      47.99\n"
     ]
    }
   ],
   "source": [
    "%%bash \n",
    "printf \"%-10s %-8s %-4s\\n\" 姓名 性别 体重kg  \n",
    "printf \"%-10s %-8s %-4.2f\\n\" 郭靖 男 66.1234 \n",
    "printf \"%-10s %-8s %-4.2f\\n\" 杨过 男 48.6543 \n",
    "printf \"%-10s %-8s %-4.2f\\n\" 郭芙 女 47.9876 "
   ]
  },
  {
   "cell_type": "raw",
   "metadata": {},
   "source": [
    "%s %c %d %f都是格式替代符\n",
    "\n",
    "%-10s 指一个宽度为10个字符（-表示左对齐，没有则表示右对齐），\n",
    "任何字符都会被显示在10个字符宽的字符内，如果不足则自动以空格填充，超过也会将内容全部显示出来。\n",
    "\n",
    "%-4.2f 指格式化为小数，其中.2指保留2位小数。"
   ]
  },
  {
   "cell_type": "markdown",
   "metadata": {},
   "source": [
    "### 12，输入输出重定向"
   ]
  },
  {
   "cell_type": "raw",
   "metadata": {},
   "source": [
    "0表示标准输入流 stdin, 1表示标准输出流stdout, 2表示标准错误流stderr\n",
    "command > file 将输出重定向到file\n",
    "command < file 将输入重定向到file\n",
    "command >> file 将输出以追加方式重定向到file\n",
    "command 1>log 2>err 将标准输出流和标准错误流分别重定向到 log和err\n",
    "command > file 2>&1 将stderr和stdout合并后重定向到file"
   ]
  },
  {
   "cell_type": "code",
   "execution_count": 97,
   "metadata": {},
   "outputs": [],
   "source": [
    "%%bash \n",
    "\n",
    "echo `set` > log"
   ]
  },
  {
   "cell_type": "code",
   "execution_count": 98,
   "metadata": {},
   "outputs": [
    {
     "name": "stdout",
     "output_type": "stream",
     "text": [
      "BASH=/bin/bash BASHOPTS=cmdhist:complete_fullquote:extquote:force_fignore:hostcomplete:interactive_comments:progcomp:promptvars:sourcepath BASH_ALIASES=() BASH_ARGC=() BASH_ARGV=() BASH_CMDS=() BASH_LINENO=() BASH_SOURCE=() BASH_VERSINFO=([0]=\"4\" [1]=\"3\" [2]=\"30\" [3]=\"1\" [4]=\"release\" [5]=\"x86_64-pc-linux-gnu\") BASH_VERSION='4.3.30(1)-release' CLICOLOR=1 COLUMNS=80 CONDA_DIR=/opt/conda/bin CPU_GUARANTEE=0.02 CPU_LIMIT=1.0 DEBIAN_FRONTEND=noninteractive DIRSTACK=() EUID=1001 GIT_PAGER=cat GROUPS=() HOME=/home/jquser HOSTNAME=jupyter-75034658808 HOSTTYPE=x86_64 IFS=$' \\t\\n' JAVA_HOME=/opt/jdk1.8.0_92 JPY_API_TOKEN=a2ca320592684498b16798323ff3239a JPY_PARENT_PID=75 JQCUSTOMER= JQDATA_API_SERVER=http://10.45.146.21:8000 JQ_USER=75034658808 JUPYTERHUB_API_TOKEN=a2ca320592684498b16798323ff3239a JUPYTERHUB_API_URL=http://10.45.136.71:8081/hub/api JUPYTERHUB_BASE_URL=/ JUPYTERHUB_CLIENT_ID=user-75034658808 JUPYTERHUB_HOST= JUPYTERHUB_OAUTH_CALLBACK_URL=/user/75034658808/oauth_callback JUPYTERHUB_SERVICE_PREFIX=/user/75034658808/ JUPYTERHUB_USER=75034658808 KUANKE_ONLINE=1 LANG=zh_CN.UTF-8 LANGUAGE=zh_CN LC_ALL=C.UTF-8 LC_CTYPE=C.UTF-8 LINES=24 LOGNAME=jquser MACHTYPE=x86_64-pc-linux-gnu MEM_GUARANTEE=209715200 MEM_LIMIT=1073741824 NB_GID=1001 NB_UID=1001 NB_USER=jquser NOTEBOOK_ARGS='--disable-user-config ' OPTERR=1 OPTIND=1 OSTYPE=linux-gnu PAGER=cat PATH=/opt/conda/envs/python2/bin:/usr/local/sbin:/usr/local/bin:/usr/sbin:/usr/bin:/sbin:/bin:/opt/conda/bin:/opt/jdk1.8.0_92/bin PPID=17824 PS4='+ ' PWD=/home/jquser/AllMyNotes PYTHONIOENCODING=UTF-8 PYTHONPATH= RESEARCH_API_SERVER=http://10.31.145.164:5000 RESEARCH_API_TOKEN=8eff243a4e4b6b885d01872f9782b580 SHELL=/bin/bash SHELLOPTS=braceexpand:hashall:interactive-comments SHLVL=1 SUDO_COMMAND='/usr/local/bin/jupyterhub-singleuser --disable-user-config --ip=\"0.0.0.0\" --port=8888 --notebook-dir=\"/home/jquser\" --user=75034658808' SUDO_GID=0 SUDO_UID=0 SUDO_USER=root TERM=xterm-color UID=1001 USER=jquser USERNAME=jquser USER_ID=1001 _=bash\r\n"
     ]
    }
   ],
   "source": [
    "!cat log"
   ]
  }
 ],
 "metadata": {
  "kernelspec": {
   "display_name": "Python 2",
   "language": "python",
   "name": "python2"
  },
  "language_info": {
   "codemirror_mode": {
    "name": "ipython",
    "version": 2
   },
   "file_extension": ".py",
   "mimetype": "text/x-python",
   "name": "python",
   "nbconvert_exporter": "python",
   "pygments_lexer": "ipython2",
   "version": "2.7.10"
  }
 },
 "nbformat": 4,
 "nbformat_minor": 2
}

{
  "cells": [
    {
      "metadata": {},
      "cell_type": "markdown",
      "source": "# pdb 调试程序方法"
    },
    {
      "metadata": {},
      "cell_type": "markdown",
      "source": "### 一、使用pdb的方式"
    },
    {
      "metadata": {},
      "cell_type": "markdown",
      "source": "1，事后排查调试：\n\n程序发生trace_back后输入%debug或者 pdb.pm()"
    },
    {
      "metadata": {
        "trusted": false
      },
      "cell_type": "code",
      "source": "%debug",
      "execution_count": null,
      "outputs": []
    },
    {
      "metadata": {
        "trusted": false
      },
      "cell_type": "code",
      "source": "import pdb \npdb.pm()  #pdb.post_mortem()",
      "execution_count": null,
      "outputs": []
    },
    {
      "metadata": {},
      "cell_type": "markdown",
      "source": "2，调试模式运行\n\n* !python -m pdb script.py 命令行调试，相当于pdb.run()\n\n* pdb.run('script.py')   调试文件，第一行即进入调试模式\n\n* pdb.runeval(‘x = 1/0’)  调试表达式\n\n* pdb.runcall()   调试并调用函数"
    },
    {
      "metadata": {
        "trusted": false
      },
      "cell_type": "code",
      "source": "%%writefile script.py\nx = 1\nz = x/(x-1)",
      "execution_count": 11,
      "outputs": [
        {
          "name": "stdout",
          "output_type": "stream",
          "text": "Overwriting script.py\n"
        }
      ]
    },
    {
      "metadata": {
        "collapsed": true,
        "trusted": false
      },
      "cell_type": "code",
      "source": "pdb.run('script.py')",
      "execution_count": 5,
      "outputs": [
        {
          "name": "stdout",
          "output_type": "stream",
          "text": "> /home/jquser/AllMyNotes/script.py(1)<module>()\n-> x = 1\n(Pdb) Traceback (most recent call last):\n  File \"/opt/conda/envs/python2/lib/python2.7/pdb.py\", line 1314, in main\n    pdb._runscript(mainpyfile)\n  File \"/opt/conda/envs/python2/lib/python2.7/pdb.py\", line 1233, in _runscript\n    self.run(statement)\n  File \"/opt/conda/envs/python2/lib/python2.7/bdb.py\", line 400, in run\n    exec cmd in globals, locals\n  File \"<string>\", line 1, in <module>\n  File \"script.py\", line 1, in <module>\n    x = 1\n  File \"script.py\", line 1, in <module>\n    x = 1\n  File \"/opt/conda/envs/python2/lib/python2.7/bdb.py\", line 49, in trace_dispatch\n    return self.dispatch_line(frame)\n  File \"/opt/conda/envs/python2/lib/python2.7/bdb.py\", line 67, in dispatch_line\n    self.user_line(frame)\n  File \"/opt/conda/envs/python2/lib/python2.7/pdb.py\", line 158, in user_line\n    self.interaction(frame, None)\n  File \"/opt/conda/envs/python2/lib/python2.7/pdb.py\", line 210, in interaction\n    self.cmdloop()\n  File \"/opt/conda/envs/python2/lib/python2.7/cmd.py\", line 130, in cmdloop\n    line = raw_input(self.prompt)\nKeyboardInterrupt\nUncaught exception. Entering post mortem debugging\nRunning 'cont' or 'step' will restart the program\n> /opt/conda/envs/python2/lib/python2.7/cmd.py(130)cmdloop()\n-> line = raw_input(self.prompt)\n(Pdb) \n(Pdb) "
        }
      ]
    },
    {
      "metadata": {
        "trusted": false
      },
      "cell_type": "code",
      "source": "pdb.runeval('z')",
      "execution_count": 12,
      "outputs": [
        {
          "name": "stdout",
          "output_type": "stream",
          "text": "> <string>(1)<module>()\n(Pdb) z\n*** NameError: name 'z' is not defined\n(Pdb) x\n1\n(Pdb) q\n"
        }
      ]
    },
    {
      "metadata": {},
      "cell_type": "markdown",
      "source": "3, 指定位置调试"
    },
    {
      "metadata": {
        "collapsed": true,
        "trusted": false
      },
      "cell_type": "code",
      "source": "__DEBUG__ = False\nimport pdb\nx = 1\nif __DEBUG__: pdb.set_trace()\nz = x/(x-1)",
      "execution_count": 3,
      "outputs": [
        {
          "name": "stdout",
          "output_type": "stream",
          "text": "--Return--\n> <ipython-input-3-d051fb9ea164>(3)<module>()->None\n-> pdb.set_trace()\n(Pdb) x\n1\n(Pdb) p x\n1\n(Pdb) pp x\n1\n(Pdb) break\n(Pdb) b\n(Pdb) break\n(Pdb) q\n"
        },
        {
          "ename": "BdbQuit",
          "evalue": "",
          "output_type": "error",
          "traceback": [
            "\u001b[1;31m---------------------------------------------------------------------------\u001b[0m",
            "\u001b[1;31mBdbQuit\u001b[0m                                   Traceback (most recent call last)",
            "\u001b[1;32m<ipython-input-3-d051fb9ea164>\u001b[0m in \u001b[0;36m<module>\u001b[1;34m()\u001b[0m\n\u001b[0;32m      1\u001b[0m \u001b[1;32mimport\u001b[0m \u001b[0mpdb\u001b[0m\u001b[1;33m\u001b[0m\u001b[0m\n\u001b[0;32m      2\u001b[0m \u001b[0mx\u001b[0m \u001b[1;33m=\u001b[0m \u001b[1;36m1\u001b[0m\u001b[1;33m\u001b[0m\u001b[0m\n\u001b[1;32m----> 3\u001b[1;33m \u001b[0mpdb\u001b[0m\u001b[1;33m.\u001b[0m\u001b[0mset_trace\u001b[0m\u001b[1;33m(\u001b[0m\u001b[1;33m)\u001b[0m\u001b[1;33m\u001b[0m\u001b[0m\n\u001b[0m\u001b[0;32m      4\u001b[0m \u001b[0mz\u001b[0m \u001b[1;33m=\u001b[0m \u001b[0mx\u001b[0m\u001b[1;33m/\u001b[0m\u001b[1;33m(\u001b[0m\u001b[0mx\u001b[0m\u001b[1;33m-\u001b[0m\u001b[1;36m1\u001b[0m\u001b[1;33m)\u001b[0m\u001b[1;33m\u001b[0m\u001b[0m\n",
            "\u001b[1;32m/opt/conda/envs/python2/lib/python2.7/bdb.pyc\u001b[0m in \u001b[0;36mtrace_dispatch\u001b[1;34m(self, frame, event, arg)\u001b[0m\n\u001b[0;32m     51\u001b[0m             \u001b[1;32mreturn\u001b[0m \u001b[0mself\u001b[0m\u001b[1;33m.\u001b[0m\u001b[0mdispatch_call\u001b[0m\u001b[1;33m(\u001b[0m\u001b[0mframe\u001b[0m\u001b[1;33m,\u001b[0m \u001b[0marg\u001b[0m\u001b[1;33m)\u001b[0m\u001b[1;33m\u001b[0m\u001b[0m\n\u001b[0;32m     52\u001b[0m         \u001b[1;32mif\u001b[0m \u001b[0mevent\u001b[0m \u001b[1;33m==\u001b[0m \u001b[1;34m'return'\u001b[0m\u001b[1;33m:\u001b[0m\u001b[1;33m\u001b[0m\u001b[0m\n\u001b[1;32m---> 53\u001b[1;33m             \u001b[1;32mreturn\u001b[0m \u001b[0mself\u001b[0m\u001b[1;33m.\u001b[0m\u001b[0mdispatch_return\u001b[0m\u001b[1;33m(\u001b[0m\u001b[0mframe\u001b[0m\u001b[1;33m,\u001b[0m \u001b[0marg\u001b[0m\u001b[1;33m)\u001b[0m\u001b[1;33m\u001b[0m\u001b[0m\n\u001b[0m\u001b[0;32m     54\u001b[0m         \u001b[1;32mif\u001b[0m \u001b[0mevent\u001b[0m \u001b[1;33m==\u001b[0m \u001b[1;34m'exception'\u001b[0m\u001b[1;33m:\u001b[0m\u001b[1;33m\u001b[0m\u001b[0m\n\u001b[0;32m     55\u001b[0m             \u001b[1;32mreturn\u001b[0m \u001b[0mself\u001b[0m\u001b[1;33m.\u001b[0m\u001b[0mdispatch_exception\u001b[0m\u001b[1;33m(\u001b[0m\u001b[0mframe\u001b[0m\u001b[1;33m,\u001b[0m \u001b[0marg\u001b[0m\u001b[1;33m)\u001b[0m\u001b[1;33m\u001b[0m\u001b[0m\n",
            "\u001b[1;32m/opt/conda/envs/python2/lib/python2.7/bdb.pyc\u001b[0m in \u001b[0;36mdispatch_return\u001b[1;34m(self, frame, arg)\u001b[0m\n\u001b[0;32m     89\u001b[0m             \u001b[1;32mfinally\u001b[0m\u001b[1;33m:\u001b[0m\u001b[1;33m\u001b[0m\u001b[0m\n\u001b[0;32m     90\u001b[0m                 \u001b[0mself\u001b[0m\u001b[1;33m.\u001b[0m\u001b[0mframe_returning\u001b[0m \u001b[1;33m=\u001b[0m \u001b[0mNone\u001b[0m\u001b[1;33m\u001b[0m\u001b[0m\n\u001b[1;32m---> 91\u001b[1;33m             \u001b[1;32mif\u001b[0m \u001b[0mself\u001b[0m\u001b[1;33m.\u001b[0m\u001b[0mquitting\u001b[0m\u001b[1;33m:\u001b[0m \u001b[1;32mraise\u001b[0m \u001b[0mBdbQuit\u001b[0m\u001b[1;33m\u001b[0m\u001b[0m\n\u001b[0m\u001b[0;32m     92\u001b[0m         \u001b[1;32mreturn\u001b[0m \u001b[0mself\u001b[0m\u001b[1;33m.\u001b[0m\u001b[0mtrace_dispatch\u001b[0m\u001b[1;33m\u001b[0m\u001b[0m\n\u001b[0;32m     93\u001b[0m \u001b[1;33m\u001b[0m\u001b[0m\n",
            "\u001b[1;31mBdbQuit\u001b[0m: "
          ]
        }
      ]
    },
    {
      "metadata": {},
      "cell_type": "markdown",
      "source": "### 二、pdb的常用命令"
    },
    {
      "metadata": {},
      "cell_type": "markdown",
      "source": "1, 变量相关"
    },
    {
      "metadata": {},
      "cell_type": "markdown",
      "source": "* expression  执行expression\n如：1+1 则输出2，\nx 则显示x的值。\n\n* p (print)  打印expression\n如：p x 打印x\npp df 打印df\n\n* l (list) 查看当前位置附近代码,显示断点周围源代码\n\n* ll (longlist) 查看当前所在frame(函数，类，脚本)完整代码\n\n* whatis 查看expression的type\n如：whatis x 查看type(x)\n\n* source 查看变量或函数源码\n\n* a (args) 显示当前函数参数\n如： a 打印当前函数参数值"
    },
    {
      "metadata": {},
      "cell_type": "markdown",
      "source": "2, 断点相关"
    },
    {
      "metadata": {},
      "cell_type": "markdown",
      "source": "* b (break) 设置断点\n如： break 10 在 line 10处设置断点 ，\nbreak test 在 test函数处设置断点，\nbreak 查看当前全部断点。\n\n* cl (clear) 清除断点\n如：cl 1   清除第一个断点\ncl 清除全部断点\n\n* tbreak 设置临时断点\nTemporary breakpoint 只运行一次\n如：tbreak 10 \n\n* disable,enable 失效，激活断点 \n"
    },
    {
      "metadata": {},
      "cell_type": "markdown",
      "source": "3，运行相关"
    },
    {
      "metadata": {},
      "cell_type": "markdown",
      "source": "* d (down) 下溯到下一层位置\n\n* u (up) 上溯到上一层调用位置\n\n* n (next) 单行运行，不进入到调用函数内部\n\n* s (step) 单行运行，进入到调用函数内部\n\n* r (return) 继续运行，直到当前函数返回\n\n* c (continue) 继续运行，直到遇到下一个断点\n\n* j (jump) 继续执行到某行\n\n如：j 10 继续执行到第10行\n\n* q (quit) 退出pdb调试模式\n"
    },
    {
      "metadata": {},
      "cell_type": "markdown",
      "source": "### 三、pdb使用示范"
    },
    {
      "metadata": {},
      "cell_type": "markdown",
      "source": "三个命令必用：up,down,pp "
    },
    {
      "metadata": {
        "trusted": false
      },
      "cell_type": "code",
      "source": "def func1(a, b):\n    return a / b\n\ndef func2(x):\n    a = x\n    b = x - 1\n    return func1(a, b)",
      "execution_count": 13,
      "outputs": []
    },
    {
      "metadata": {
        "trusted": false
      },
      "cell_type": "code",
      "source": "%xmode Plain\nfunc2(1)",
      "execution_count": 15,
      "outputs": [
        {
          "name": "stdout",
          "output_type": "stream",
          "text": "Exception reporting mode: Plain\n"
        },
        {
          "ename": "ZeroDivisionError",
          "evalue": "integer division or modulo by zero",
          "output_type": "error",
          "traceback": [
            "Traceback \u001b[1;36m(most recent call last)\u001b[0m:\n",
            "  File \u001b[0;32m\"<ipython-input-15-9d8b891ae3b2>\"\u001b[0m, line \u001b[0;32m2\u001b[0m, in \u001b[0;35m<module>\u001b[0m\n    func2(1)\n",
            "  File \u001b[0;32m\"<ipython-input-13-d849e34d61fb>\"\u001b[0m, line \u001b[0;32m7\u001b[0m, in \u001b[0;35mfunc2\u001b[0m\n    return func1(a, b)\n",
            "\u001b[1;36m  File \u001b[1;32m\"<ipython-input-13-d849e34d61fb>\"\u001b[1;36m, line \u001b[1;32m2\u001b[1;36m, in \u001b[1;35mfunc1\u001b[1;36m\u001b[0m\n\u001b[1;33m    return a / b\u001b[0m\n",
            "\u001b[1;31mZeroDivisionError\u001b[0m\u001b[1;31m:\u001b[0m integer division or modulo by zero\n"
          ]
        }
      ]
    },
    {
      "metadata": {
        "trusted": false
      },
      "cell_type": "code",
      "source": "%debug",
      "execution_count": 16,
      "outputs": [
        {
          "name": "stdout",
          "output_type": "stream",
          "text": "> \u001b[1;32m<ipython-input-13-d849e34d61fb>\u001b[0m(2)\u001b[0;36mfunc1\u001b[1;34m()\u001b[0m\n\u001b[1;32m      1 \u001b[1;33m\u001b[1;32mdef\u001b[0m \u001b[0mfunc1\u001b[0m\u001b[1;33m(\u001b[0m\u001b[0ma\u001b[0m\u001b[1;33m,\u001b[0m \u001b[0mb\u001b[0m\u001b[1;33m)\u001b[0m\u001b[1;33m:\u001b[0m\u001b[1;33m\u001b[0m\u001b[0m\n\u001b[0m\u001b[1;32m----> 2 \u001b[1;33m    \u001b[1;32mreturn\u001b[0m \u001b[0ma\u001b[0m \u001b[1;33m/\u001b[0m \u001b[0mb\u001b[0m\u001b[1;33m\u001b[0m\u001b[0m\n\u001b[0m\u001b[1;32m      3 \u001b[1;33m\u001b[1;33m\u001b[0m\u001b[0m\n\u001b[0m\nipdb> u\n> \u001b[1;32m<ipython-input-13-d849e34d61fb>\u001b[0m(7)\u001b[0;36mfunc2\u001b[1;34m()\u001b[0m\n\u001b[1;32m      5 \u001b[1;33m    \u001b[0ma\u001b[0m \u001b[1;33m=\u001b[0m \u001b[0mx\u001b[0m\u001b[1;33m\u001b[0m\u001b[0m\n\u001b[0m\u001b[1;32m      6 \u001b[1;33m    \u001b[0mb\u001b[0m \u001b[1;33m=\u001b[0m \u001b[0mx\u001b[0m \u001b[1;33m-\u001b[0m \u001b[1;36m1\u001b[0m\u001b[1;33m\u001b[0m\u001b[0m\n\u001b[0m\u001b[1;32m----> 7 \u001b[1;33m    \u001b[1;32mreturn\u001b[0m \u001b[0mfunc1\u001b[0m\u001b[1;33m(\u001b[0m\u001b[0ma\u001b[0m\u001b[1;33m,\u001b[0m \u001b[0mb\u001b[0m\u001b[1;33m)\u001b[0m\u001b[1;33m\u001b[0m\u001b[0m\n\u001b[0m\nipdb> b\nipdb> pp b\n0\nipdb> pp a\n1\nipdb> a\nx = 1\nipdb> u\n> \u001b[1;32m<ipython-input-15-9d8b891ae3b2>\u001b[0m(2)\u001b[0;36m<module>\u001b[1;34m()\u001b[0m\n\u001b[1;32m      1 \u001b[1;33m\u001b[0mget_ipython\u001b[0m\u001b[1;33m(\u001b[0m\u001b[1;33m)\u001b[0m\u001b[1;33m.\u001b[0m\u001b[0mmagic\u001b[0m\u001b[1;33m(\u001b[0m\u001b[1;34mu'xmode Plain'\u001b[0m\u001b[1;33m)\u001b[0m\u001b[1;33m\u001b[0m\u001b[0m\n\u001b[0m\u001b[1;32m----> 2 \u001b[1;33m\u001b[0mfunc2\u001b[0m\u001b[1;33m(\u001b[0m\u001b[1;36m1\u001b[0m\u001b[1;33m)\u001b[0m\u001b[1;33m\u001b[0m\u001b[0m\n\u001b[0m\nipdb> d\n> \u001b[1;32m<ipython-input-13-d849e34d61fb>\u001b[0m(7)\u001b[0;36mfunc2\u001b[1;34m()\u001b[0m\n\u001b[1;32m      5 \u001b[1;33m    \u001b[0ma\u001b[0m \u001b[1;33m=\u001b[0m \u001b[0mx\u001b[0m\u001b[1;33m\u001b[0m\u001b[0m\n\u001b[0m\u001b[1;32m      6 \u001b[1;33m    \u001b[0mb\u001b[0m \u001b[1;33m=\u001b[0m \u001b[0mx\u001b[0m \u001b[1;33m-\u001b[0m \u001b[1;36m1\u001b[0m\u001b[1;33m\u001b[0m\u001b[0m\n\u001b[0m\u001b[1;32m----> 7 \u001b[1;33m    \u001b[1;32mreturn\u001b[0m \u001b[0mfunc1\u001b[0m\u001b[1;33m(\u001b[0m\u001b[0ma\u001b[0m\u001b[1;33m,\u001b[0m \u001b[0mb\u001b[0m\u001b[1;33m)\u001b[0m\u001b[1;33m\u001b[0m\u001b[0m\n\u001b[0m\nipdb> d\n> \u001b[1;32m<ipython-input-13-d849e34d61fb>\u001b[0m(2)\u001b[0;36mfunc1\u001b[1;34m()\u001b[0m\n\u001b[1;32m      1 \u001b[1;33m\u001b[1;32mdef\u001b[0m \u001b[0mfunc1\u001b[0m\u001b[1;33m(\u001b[0m\u001b[0ma\u001b[0m\u001b[1;33m,\u001b[0m \u001b[0mb\u001b[0m\u001b[1;33m)\u001b[0m\u001b[1;33m:\u001b[0m\u001b[1;33m\u001b[0m\u001b[0m\n\u001b[0m\u001b[1;32m----> 2 \u001b[1;33m    \u001b[1;32mreturn\u001b[0m \u001b[0ma\u001b[0m \u001b[1;33m/\u001b[0m \u001b[0mb\u001b[0m\u001b[1;33m\u001b[0m\u001b[0m\n\u001b[0m\u001b[1;32m      3 \u001b[1;33m\u001b[1;33m\u001b[0m\u001b[0m\n\u001b[0m\nipdb> a\na = 1\nb = 0\nipdb> pp a\n1\nipdb> pp b\n0\nipdb> type(a)\n<type 'int'>\nipdb> source a\n*** SyntaxError: invalid syntax (<stdin>, line 1)\nipdb> source b\n*** SyntaxError: invalid syntax (<stdin>, line 1)\nipdb> source func1\n*** SyntaxError: invalid syntax (<stdin>, line 1)\nipdb> source func2\n*** SyntaxError: invalid syntax (<stdin>, line 1)\nipdb> w\n  \u001b[1;32m<ipython-input-15-9d8b891ae3b2>\u001b[0m(2)\u001b[0;36m<module>\u001b[1;34m()\u001b[0m\n\u001b[0;32m      1 \u001b[0m\u001b[0mget_ipython\u001b[0m\u001b[1;33m(\u001b[0m\u001b[1;33m)\u001b[0m\u001b[1;33m.\u001b[0m\u001b[0mmagic\u001b[0m\u001b[1;33m(\u001b[0m\u001b[1;34mu'xmode Plain'\u001b[0m\u001b[1;33m)\u001b[0m\u001b[1;33m\u001b[0m\u001b[0m\n\u001b[1;32m----> 2 \u001b[1;33m\u001b[0mfunc2\u001b[0m\u001b[1;33m(\u001b[0m\u001b[1;36m1\u001b[0m\u001b[1;33m)\u001b[0m\u001b[1;33m\u001b[0m\u001b[0m\n\u001b[0m\n  \u001b[1;32m<ipython-input-13-d849e34d61fb>\u001b[0m(7)\u001b[0;36mfunc2\u001b[1;34m()\u001b[0m\n\u001b[0;32m      3 \u001b[0m\u001b[1;33m\u001b[0m\u001b[0m\n\u001b[0;32m      4 \u001b[0m\u001b[1;32mdef\u001b[0m \u001b[0mfunc2\u001b[0m\u001b[1;33m(\u001b[0m\u001b[0mx\u001b[0m\u001b[1;33m)\u001b[0m\u001b[1;33m:\u001b[0m\u001b[1;33m\u001b[0m\u001b[0m\n\u001b[0;32m      5 \u001b[0m    \u001b[0ma\u001b[0m \u001b[1;33m=\u001b[0m \u001b[0mx\u001b[0m\u001b[1;33m\u001b[0m\u001b[0m\n\u001b[0;32m      6 \u001b[0m    \u001b[0mb\u001b[0m \u001b[1;33m=\u001b[0m \u001b[0mx\u001b[0m \u001b[1;33m-\u001b[0m \u001b[1;36m1\u001b[0m\u001b[1;33m\u001b[0m\u001b[0m\n\u001b[1;32m----> 7 \u001b[1;33m    \u001b[1;32mreturn\u001b[0m \u001b[0mfunc1\u001b[0m\u001b[1;33m(\u001b[0m\u001b[0ma\u001b[0m\u001b[1;33m,\u001b[0m \u001b[0mb\u001b[0m\u001b[1;33m)\u001b[0m\u001b[1;33m\u001b[0m\u001b[0m\n\u001b[0m\n> \u001b[1;32m<ipython-input-13-d849e34d61fb>\u001b[0m(2)\u001b[0;36mfunc1\u001b[1;34m()\u001b[0m\n\u001b[1;32m      1 \u001b[1;33m\u001b[1;32mdef\u001b[0m \u001b[0mfunc1\u001b[0m\u001b[1;33m(\u001b[0m\u001b[0ma\u001b[0m\u001b[1;33m,\u001b[0m \u001b[0mb\u001b[0m\u001b[1;33m)\u001b[0m\u001b[1;33m:\u001b[0m\u001b[1;33m\u001b[0m\u001b[0m\n\u001b[0m\u001b[1;32m----> 2 \u001b[1;33m    \u001b[1;32mreturn\u001b[0m \u001b[0ma\u001b[0m \u001b[1;33m/\u001b[0m \u001b[0mb\u001b[0m\u001b[1;33m\u001b[0m\u001b[0m\n\u001b[0m\u001b[1;32m      3 \u001b[1;33m\u001b[1;33m\u001b[0m\u001b[0m\n\u001b[0m\u001b[1;32m      4 \u001b[1;33m\u001b[1;32mdef\u001b[0m \u001b[0mfunc2\u001b[0m\u001b[1;33m(\u001b[0m\u001b[0mx\u001b[0m\u001b[1;33m)\u001b[0m\u001b[1;33m:\u001b[0m\u001b[1;33m\u001b[0m\u001b[0m\n\u001b[0m\u001b[1;32m      5 \u001b[1;33m    \u001b[0ma\u001b[0m \u001b[1;33m=\u001b[0m \u001b[0mx\u001b[0m\u001b[1;33m\u001b[0m\u001b[0m\n\u001b[0m\nipdb> q\n"
        }
      ]
    }
  ],
  "metadata": {
    "kernelspec": {
      "name": "python2",
      "display_name": "Python 2",
      "language": "python"
    },
    "language_info": {
      "mimetype": "text/x-python",
      "nbconvert_exporter": "python",
      "name": "python",
      "pygments_lexer": "ipython2",
      "version": "2.7.14",
      "file_extension": ".py",
      "codemirror_mode": {
        "version": 2,
        "name": "ipython"
      }
    }
  },
  "nbformat": 4,
  "nbformat_minor": 2
}